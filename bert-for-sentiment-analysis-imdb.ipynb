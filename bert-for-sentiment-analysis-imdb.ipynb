{
 "cells": [
  {
   "cell_type": "markdown",
   "id": "inappropriate-blast",
   "metadata": {
    "papermill": {
     "duration": 0.022135,
     "end_time": "2021-05-20T15:56:39.550551",
     "exception": false,
     "start_time": "2021-05-20T15:56:39.528416",
     "status": "completed"
    },
    "tags": []
   },
   "source": [
    "# Load Essential Libraries"
   ]
  },
  {
   "cell_type": "code",
   "execution_count": 1,
   "id": "australian-genealogy",
   "metadata": {
    "_cell_guid": "b1076dfc-b9ad-4769-8c92-a6c4dae69d19",
    "_uuid": "8f2839f25d086af736a60e9eeb907d3b93b6e0e5",
    "execution": {
     "iopub.execute_input": "2021-05-20T15:56:39.607345Z",
     "iopub.status.busy": "2021-05-20T15:56:39.606736Z",
     "iopub.status.idle": "2021-05-20T15:56:46.381835Z",
     "shell.execute_reply": "2021-05-20T15:56:46.380741Z",
     "shell.execute_reply.started": "2021-05-20T15:39:45.771274Z"
    },
    "papermill": {
     "duration": 6.810629,
     "end_time": "2021-05-20T15:56:46.382024",
     "exception": false,
     "start_time": "2021-05-20T15:56:39.571395",
     "status": "completed"
    },
    "tags": []
   },
   "outputs": [],
   "source": [
    "import os\n",
    "import re\n",
    "import random\n",
    "import time\n",
    "from tqdm import tqdm\n",
    "import numpy as np\n",
    "import pandas as pd\n",
    "import matplotlib.pyplot as plt\n",
    "from sklearn.model_selection import train_test_split\n",
    "from sklearn.feature_extraction.text import TfidfVectorizer\n",
    "from sklearn.model_selection import StratifiedKFold, cross_val_score\n",
    "from sklearn.naive_bayes import MultinomialNB\n",
    "from sklearn.metrics import accuracy_score, roc_curve, auc\n",
    "\n",
    "import torch\n",
    "import torch.nn as nn\n",
    "import torch.nn.functional as F\n",
    "from torch.utils.data import TensorDataset, DataLoader, RandomSampler, SequentialSampler\n",
    "from transformers import BertModel, BertTokenizer, AdamW, get_linear_schedule_with_warmup\n",
    "\n",
    "%matplotlib inline\n",
    "import warnings\n",
    "warnings.filterwarnings('ignore')"
   ]
  },
  {
   "cell_type": "markdown",
   "id": "distinguished-rabbit",
   "metadata": {
    "papermill": {
     "duration": 0.020876,
     "end_time": "2021-05-20T15:56:46.424510",
     "exception": false,
     "start_time": "2021-05-20T15:56:46.403634",
     "status": "completed"
    },
    "tags": []
   },
   "source": [
    "# Initializing our main variables"
   ]
  },
  {
   "cell_type": "code",
   "execution_count": 2,
   "id": "continent-recorder",
   "metadata": {
    "execution": {
     "iopub.execute_input": "2021-05-20T15:56:46.472110Z",
     "iopub.status.busy": "2021-05-20T15:56:46.470491Z",
     "iopub.status.idle": "2021-05-20T15:56:46.472746Z",
     "shell.execute_reply": "2021-05-20T15:56:46.473157Z",
     "shell.execute_reply.started": "2021-05-20T15:39:56.456646Z"
    },
    "papermill": {
     "duration": 0.027691,
     "end_time": "2021-05-20T15:56:46.473286",
     "exception": false,
     "start_time": "2021-05-20T15:56:46.445595",
     "status": "completed"
    },
    "tags": []
   },
   "outputs": [],
   "source": [
    "imdb_reviews_file = \"../input/imdb-dataset-of-50k-movie-reviews/IMDB Dataset.csv\""
   ]
  },
  {
   "cell_type": "code",
   "execution_count": 3,
   "id": "human-nudist",
   "metadata": {
    "execution": {
     "iopub.execute_input": "2021-05-20T15:56:46.577312Z",
     "iopub.status.busy": "2021-05-20T15:56:46.576429Z",
     "iopub.status.idle": "2021-05-20T15:56:46.581140Z",
     "shell.execute_reply": "2021-05-20T15:56:46.580712Z",
     "shell.execute_reply.started": "2021-05-20T15:39:58.491108Z"
    },
    "papermill": {
     "duration": 0.087106,
     "end_time": "2021-05-20T15:56:46.581264",
     "exception": false,
     "start_time": "2021-05-20T15:56:46.494158",
     "status": "completed"
    },
    "tags": []
   },
   "outputs": [
    {
     "name": "stdout",
     "output_type": "stream",
     "text": [
      "There are 1 GPU(s) available.\n",
      "Device name: Tesla P100-PCIE-16GB\n"
     ]
    }
   ],
   "source": [
    "if torch.cuda.is_available():       \n",
    "    device = torch.device(\"cuda\")\n",
    "    print(f'There are {torch.cuda.device_count()} GPU(s) available.')\n",
    "    print('Device name:', torch.cuda.get_device_name(0))\n",
    "\n",
    "else:\n",
    "    print('No GPU available, using the CPU instead.')\n",
    "    device = torch.device(\"cpu\")"
   ]
  },
  {
   "cell_type": "markdown",
   "id": "psychological-pricing",
   "metadata": {
    "papermill": {
     "duration": 0.020999,
     "end_time": "2021-05-20T15:56:46.623985",
     "exception": false,
     "start_time": "2021-05-20T15:56:46.602986",
     "status": "completed"
    },
    "tags": []
   },
   "source": [
    "# Dataset"
   ]
  },
  {
   "cell_type": "code",
   "execution_count": 4,
   "id": "spiritual-hunter",
   "metadata": {
    "execution": {
     "iopub.execute_input": "2021-05-20T15:56:46.674200Z",
     "iopub.status.busy": "2021-05-20T15:56:46.673622Z",
     "iopub.status.idle": "2021-05-20T15:56:47.799117Z",
     "shell.execute_reply": "2021-05-20T15:56:47.798230Z",
     "shell.execute_reply.started": "2021-05-20T15:40:21.826377Z"
    },
    "papermill": {
     "duration": 1.15375,
     "end_time": "2021-05-20T15:56:47.799262",
     "exception": false,
     "start_time": "2021-05-20T15:56:46.645512",
     "status": "completed"
    },
    "tags": []
   },
   "outputs": [],
   "source": [
    "reviews = pd.read_csv(imdb_reviews_file)\n",
    "reviews.sentiment = reviews.sentiment.map( {'positive':0 , 'negative':1})\n",
    "\n",
    "X = reviews.review.values\n",
    "y = reviews.sentiment.values\n",
    "\n",
    "X_train, X_val, y_train, y_val = train_test_split(X, y, test_size=0.25, random_state=2020)"
   ]
  },
  {
   "cell_type": "markdown",
   "id": "cardiac-joyce",
   "metadata": {
    "papermill": {
     "duration": 0.021049,
     "end_time": "2021-05-20T15:56:47.842428",
     "exception": false,
     "start_time": "2021-05-20T15:56:47.821379",
     "status": "completed"
    },
    "tags": []
   },
   "source": [
    "# Baseline model \n",
    "# TF-IDF + Naive Bayes classifier "
   ]
  },
  {
   "cell_type": "code",
   "execution_count": 5,
   "id": "integral-silence",
   "metadata": {
    "execution": {
     "iopub.execute_input": "2021-05-20T15:56:47.888577Z",
     "iopub.status.busy": "2021-05-20T15:56:47.887945Z",
     "iopub.status.idle": "2021-05-20T15:57:08.383919Z",
     "shell.execute_reply": "2021-05-20T15:57:08.384531Z",
     "shell.execute_reply.started": "2021-05-20T15:40:27.035914Z"
    },
    "papermill": {
     "duration": 20.521231,
     "end_time": "2021-05-20T15:57:08.384743",
     "exception": false,
     "start_time": "2021-05-20T15:56:47.863512",
     "status": "completed"
    },
    "tags": []
   },
   "outputs": [
    {
     "name": "stdout",
     "output_type": "stream",
     "text": [
      "[nltk_data] Error loading stopwords: <urlopen error [Errno -3]\n",
      "[nltk_data]     Temporary failure in name resolution>\n"
     ]
    }
   ],
   "source": [
    "import nltk\n",
    "nltk.download(\"stopwords\")\n",
    "from nltk.corpus import stopwords"
   ]
  },
  {
   "cell_type": "code",
   "execution_count": 6,
   "id": "significant-return",
   "metadata": {
    "execution": {
     "iopub.execute_input": "2021-05-20T15:57:08.435864Z",
     "iopub.status.busy": "2021-05-20T15:57:08.435108Z",
     "iopub.status.idle": "2021-05-20T15:57:08.437504Z",
     "shell.execute_reply": "2021-05-20T15:57:08.437936Z",
     "shell.execute_reply.started": "2021-05-20T15:40:47.541004Z"
    },
    "papermill": {
     "duration": 0.030804,
     "end_time": "2021-05-20T15:57:08.438069",
     "exception": false,
     "start_time": "2021-05-20T15:57:08.407265",
     "status": "completed"
    },
    "tags": []
   },
   "outputs": [],
   "source": [
    "# Preprocessing\n",
    "def text_preprocessing(s):\n",
    "    s = s.lower()\n",
    "    # Change 't to 'not'\n",
    "    s = re.sub(r\"\\'t\", \" not\", s)\n",
    "    # Remove @name\n",
    "    s = re.sub(r'(@.*?)[\\s]', ' ', s)\n",
    "    # Isolate and remove punctuations except '?'\n",
    "    s = re.sub(r'([\\'\\\"\\.\\(\\)\\!\\?\\\\\\/\\,])', r' \\1 ', s)\n",
    "    s = re.sub(r'[^\\w\\s\\?]', ' ', s)\n",
    "    # Remove some special characters\n",
    "    s = re.sub(r'([\\;\\:\\|•«\\n])', ' ', s)\n",
    "    # Remove stopwords except 'not' and 'can'\n",
    "    s = \" \".join([word for word in s.split()\n",
    "                  if word not in stopwords.words('english')\n",
    "                  or word in ['not', 'can']])\n",
    "    # Remove trailing whitespace\n",
    "    s = re.sub(r'\\s+', ' ', s).strip()\n",
    "    \n",
    "    return s"
   ]
  },
  {
   "cell_type": "code",
   "execution_count": 7,
   "id": "experimental-identity",
   "metadata": {
    "execution": {
     "iopub.execute_input": "2021-05-20T15:57:08.487653Z",
     "iopub.status.busy": "2021-05-20T15:57:08.487131Z",
     "iopub.status.idle": "2021-05-20T16:20:07.909879Z",
     "shell.execute_reply": "2021-05-20T16:20:07.910307Z",
     "shell.execute_reply.started": "2021-05-20T15:41:11.601243Z"
    },
    "papermill": {
     "duration": 1379.45076,
     "end_time": "2021-05-20T16:20:07.910472",
     "exception": false,
     "start_time": "2021-05-20T15:57:08.459712",
     "status": "completed"
    },
    "tags": []
   },
   "outputs": [
    {
     "name": "stdout",
     "output_type": "stream",
     "text": [
      "CPU times: user 20min 30s, sys: 2min 25s, total: 22min 56s\n",
      "Wall time: 22min 59s\n"
     ]
    }
   ],
   "source": [
    "%%time\n",
    "# Create TF-IDF vectors for train and validation reviews\n",
    "\n",
    "# Preprocess text\n",
    "X_train_preprocessed = np.array([text_preprocessing(text) for text in X_train])\n",
    "X_val_preprocessed = np.array([text_preprocessing(text) for text in X_val])\n",
    "\n",
    "# Calculate TF-IDF\n",
    "tf_idf = TfidfVectorizer(ngram_range=(1, 3),\n",
    "                         binary=True,\n",
    "                         smooth_idf=False)\n",
    "X_train_tfidf = tf_idf.fit_transform(X_train_preprocessed)\n",
    "X_val_tfidf = tf_idf.transform(X_val_preprocessed)"
   ]
  },
  {
   "cell_type": "code",
   "execution_count": 8,
   "id": "nominated-maldives",
   "metadata": {
    "execution": {
     "iopub.execute_input": "2021-05-20T16:20:07.960899Z",
     "iopub.status.busy": "2021-05-20T16:20:07.959459Z",
     "iopub.status.idle": "2021-05-20T16:20:07.962247Z",
     "shell.execute_reply": "2021-05-20T16:20:07.961846Z",
     "shell.execute_reply.started": "2021-05-20T15:44:45.501915Z"
    },
    "papermill": {
     "duration": 0.030021,
     "end_time": "2021-05-20T16:20:07.962364",
     "exception": false,
     "start_time": "2021-05-20T16:20:07.932343",
     "status": "completed"
    },
    "tags": []
   },
   "outputs": [],
   "source": [
    "# Retrieve the AUC measure of a model\n",
    "def get_auc_CV(model):\n",
    "    # Set KFold to shuffle data before the split\n",
    "    kf = StratifiedKFold(5, shuffle=True, random_state=1)\n",
    "\n",
    "    # Get AUC scores\n",
    "    auc = cross_val_score(\n",
    "        model, X_train_tfidf, y_train, scoring=\"roc_auc\", cv=kf)\n",
    "\n",
    "    return auc.mean()"
   ]
  },
  {
   "cell_type": "code",
   "execution_count": 9,
   "id": "illegal-commitment",
   "metadata": {
    "execution": {
     "iopub.execute_input": "2021-05-20T16:20:08.013100Z",
     "iopub.status.busy": "2021-05-20T16:20:08.012430Z",
     "iopub.status.idle": "2021-05-20T16:27:09.644253Z",
     "shell.execute_reply": "2021-05-20T16:27:09.643719Z",
     "shell.execute_reply.started": "2021-05-20T15:44:46.465718Z"
    },
    "papermill": {
     "duration": 421.66,
     "end_time": "2021-05-20T16:27:09.644387",
     "exception": false,
     "start_time": "2021-05-20T16:20:07.984387",
     "status": "completed"
    },
    "tags": []
   },
   "outputs": [
    {
     "name": "stdout",
     "output_type": "stream",
     "text": [
      "Best alpha:  1.0\n"
     ]
    },
    {
     "data": {
      "image/png": "[encoded data removed]",
      "text/plain": [
       "<Figure size 432x288 with 1 Axes>"
      ]
     },
     "metadata": {
      "needs_background": "light"
     },
     "output_type": "display_data"
    }
   ],
   "source": [
    "# Try Naive Bayes classifier with many alpha values to find the best model\n",
    "res = pd.Series([get_auc_CV(MultinomialNB(i)) for i in np.arange(1, 10, 0.1)], index=np.arange(1, 10, 0.1))\n",
    "\n",
    "best_alpha = np.round(res.idxmax(), 2)\n",
    "print('Best alpha: ', best_alpha)\n",
    "\n",
    "plt.plot(res)\n",
    "plt.title('AUC vs. Alpha')\n",
    "plt.xlabel('Alpha')\n",
    "plt.ylabel('AUC')\n",
    "plt.show()"
   ]
  },
  {
   "cell_type": "code",
   "execution_count": 10,
   "id": "diverse-sugar",
   "metadata": {
    "execution": {
     "iopub.execute_input": "2021-05-20T16:27:09.696941Z",
     "iopub.status.busy": "2021-05-20T16:27:09.696269Z",
     "iopub.status.idle": "2021-05-20T16:27:09.698572Z",
     "shell.execute_reply": "2021-05-20T16:27:09.698984Z",
     "shell.execute_reply.started": "2021-05-20T15:44:52.987702Z"
    },
    "papermill": {
     "duration": 0.031872,
     "end_time": "2021-05-20T16:27:09.699100",
     "exception": false,
     "start_time": "2021-05-20T16:27:09.667228",
     "status": "completed"
    },
    "tags": []
   },
   "outputs": [],
   "source": [
    "def evaluate_roc(probs, y_true):\n",
    "    preds = probs[:, 1]\n",
    "    fpr, tpr, threshold = roc_curve(y_true, preds)\n",
    "    roc_auc = auc(fpr, tpr)\n",
    "    print(f'AUC: {roc_auc:.4f}')\n",
    "       \n",
    "    # Get accuracy over the test set\n",
    "    y_pred = np.where(preds >= 0.5, 1, 0)\n",
    "    accuracy = accuracy_score(y_true, y_pred)\n",
    "    print(f'Accuracy: {accuracy*100:.2f}%')\n",
    "    \n",
    "    # Plot ROC AUC\n",
    "    plt.title('Receiver Operating Characteristic')\n",
    "    plt.plot(fpr, tpr, 'b', label = 'AUC = %0.2f' % roc_auc)\n",
    "    plt.legend(loc = 'lower right')\n",
    "    plt.plot([0, 1], [0, 1],'r--')\n",
    "    plt.xlim([0, 1])\n",
    "    plt.ylim([0, 1])\n",
    "    plt.ylabel('True Positive Rate')\n",
    "    plt.xlabel('False Positive Rate')\n",
    "    plt.show()"
   ]
  },
  {
   "cell_type": "code",
   "execution_count": 11,
   "id": "adjacent-linux",
   "metadata": {
    "execution": {
     "iopub.execute_input": "2021-05-20T16:27:09.749673Z",
     "iopub.status.busy": "2021-05-20T16:27:09.748821Z",
     "iopub.status.idle": "2021-05-20T16:27:10.783926Z",
     "shell.execute_reply": "2021-05-20T16:27:10.784475Z",
     "shell.execute_reply.started": "2021-05-20T15:44:52.996928Z"
    },
    "papermill": {
     "duration": 1.062518,
     "end_time": "2021-05-20T16:27:10.784613",
     "exception": false,
     "start_time": "2021-05-20T16:27:09.722095",
     "status": "completed"
    },
    "tags": []
   },
   "outputs": [
    {
     "name": "stdout",
     "output_type": "stream",
     "text": [
      "AUC: 0.9603\n",
      "Accuracy: 89.16%\n"
     ]
    },
    {
     "data": {
      "image/png": "[encoded data removed]",
      "text/plain": [
       "<Figure size 432x288 with 1 Axes>"
      ]
     },
     "metadata": {
      "needs_background": "light"
     },
     "output_type": "display_data"
    }
   ],
   "source": [
    "# Compute predicted probabilities with the best model (trained)\n",
    "nb_model = MultinomialNB(alpha=1.8)\n",
    "nb_model.fit(X_train_tfidf, y_train)\n",
    "probs = nb_model.predict_proba(X_val_tfidf)\n",
    "\n",
    "# Evaluate the classifier\n",
    "evaluate_roc(probs, y_val)"
   ]
  },
  {
   "cell_type": "markdown",
   "id": "protective-seattle",
   "metadata": {
    "papermill": {
     "duration": 0.023868,
     "end_time": "2021-05-20T16:27:10.832978",
     "exception": false,
     "start_time": "2021-05-20T16:27:10.809110",
     "status": "completed"
    },
    "tags": []
   },
   "source": [
    "# Fine-tuning BERT"
   ]
  },
  {
   "cell_type": "code",
   "execution_count": 12,
   "id": "trying-purple",
   "metadata": {
    "execution": {
     "iopub.execute_input": "2021-05-20T16:27:10.885975Z",
     "iopub.status.busy": "2021-05-20T16:27:10.885307Z",
     "iopub.status.idle": "2021-05-20T16:27:10.887674Z",
     "shell.execute_reply": "2021-05-20T16:27:10.888098Z",
     "shell.execute_reply.started": "2021-05-20T15:45:04.992565Z"
    },
    "papermill": {
     "duration": 0.031337,
     "end_time": "2021-05-20T16:27:10.888220",
     "exception": false,
     "start_time": "2021-05-20T16:27:10.856883",
     "status": "completed"
    },
    "tags": []
   },
   "outputs": [],
   "source": [
    "def text_preprocessing(text):\n",
    "    # Remove '@name'\n",
    "    text = re.sub(r'(@.*?)[\\s]', ' ', text)\n",
    "\n",
    "    # Replace '&amp;' with '&'\n",
    "    text = re.sub(r'&amp;', '&', text)\n",
    "\n",
    "    # Remove trailing whitespace\n",
    "    text = re.sub(r'\\s+', ' ', text).strip()\n",
    "\n",
    "    return text"
   ]
  },
  {
   "cell_type": "code",
   "execution_count": 13,
   "id": "seventh-chick",
   "metadata": {
    "execution": {
     "iopub.execute_input": "2021-05-20T16:27:10.940617Z",
     "iopub.status.busy": "2021-05-20T16:27:10.939934Z",
     "iopub.status.idle": "2021-05-20T16:27:10.943653Z",
     "shell.execute_reply": "2021-05-20T16:27:10.943183Z",
     "shell.execute_reply.started": "2021-05-20T15:45:05.776258Z"
    },
    "papermill": {
     "duration": 0.031529,
     "end_time": "2021-05-20T16:27:10.943773",
     "exception": false,
     "start_time": "2021-05-20T16:27:10.912244",
     "status": "completed"
    },
    "tags": []
   },
   "outputs": [
    {
     "name": "stdout",
     "output_type": "stream",
     "text": [
      "Original:  One of the other reviewers has mentioned that after watching just 1 Oz episode you'll be hooked. They are right, as this is exactly what happened with me.<br /><br />The first thing that struck me about Oz was its brutality and unflinching scenes of violence, which set in right from the word GO. Trust me, this is not a show for the faint hearted or timid. This show pulls no punches with regards to drugs, sex or violence. Its is hardcore, in the classic use of the word.<br /><br />It is called OZ as that is the nickname given to the Oswald Maximum Security State Penitentary. It focuses mainly on Emerald City, an experimental section of the prison where all the cells have glass fronts and face inwards, so privacy is not high on the agenda. Em City is home to many..Aryans, Muslims, gangstas, Latinos, Christians, Italians, Irish and more....so scuffles, death stares, dodgy dealings and shady agreements are never far away.<br /><br />I would say the main appeal of the show is due to the fact that it goes where other shows wouldn't dare. Forget pretty pictures painted for mainstream audiences, forget charm, forget romance...OZ doesn't mess around. The first episode I ever saw struck me as so nasty it was surreal, I couldn't say I was ready for it, but as I watched more, I developed a taste for Oz, and got accustomed to the high levels of graphic violence. Not just violence, but injustice (crooked guards who'll be sold out for a nickel, inmates who'll kill on order and get away with it, well mannered, middle class inmates being turned into prison bitches due to their lack of street skills or prison experience) Watching Oz, you may become comfortable with what is uncomfortable viewing....thats if you can get in touch with your darker side.\n",
      "Processed:  One of the other reviewers has mentioned that after watching just 1 Oz episode you'll be hooked. They are right, as this is exactly what happened with me.<br /><br />The first thing that struck me about Oz was its brutality and unflinching scenes of violence, which set in right from the word GO. Trust me, this is not a show for the faint hearted or timid. This show pulls no punches with regards to drugs, sex or violence. Its is hardcore, in the classic use of the word.<br /><br />It is called OZ as that is the nickname given to the Oswald Maximum Security State Penitentary. It focuses mainly on Emerald City, an experimental section of the prison where all the cells have glass fronts and face inwards, so privacy is not high on the agenda. Em City is home to many..Aryans, Muslims, gangstas, Latinos, Christians, Italians, Irish and more....so scuffles, death stares, dodgy dealings and shady agreements are never far away.<br /><br />I would say the main appeal of the show is due to the fact that it goes where other shows wouldn't dare. Forget pretty pictures painted for mainstream audiences, forget charm, forget romance...OZ doesn't mess around. The first episode I ever saw struck me as so nasty it was surreal, I couldn't say I was ready for it, but as I watched more, I developed a taste for Oz, and got accustomed to the high levels of graphic violence. Not just violence, but injustice (crooked guards who'll be sold out for a nickel, inmates who'll kill on order and get away with it, well mannered, middle class inmates being turned into prison bitches due to their lack of street skills or prison experience) Watching Oz, you may become comfortable with what is uncomfortable viewing....thats if you can get in touch with your darker side.\n"
     ]
    }
   ],
   "source": [
    "# Print sentence 0\n",
    "print('Original: ', X[0])\n",
    "print('Processed: ', text_preprocessing(X[0]))"
   ]
  },
  {
   "cell_type": "code",
   "execution_count": 14,
   "id": "downtown-birth",
   "metadata": {
    "execution": {
     "iopub.execute_input": "2021-05-20T16:27:10.998968Z",
     "iopub.status.busy": "2021-05-20T16:27:10.998416Z",
     "iopub.status.idle": "2021-05-20T16:27:11.068354Z",
     "shell.execute_reply": "2021-05-20T16:27:11.067710Z",
     "shell.execute_reply.started": "2021-05-20T15:45:09.206278Z"
    },
    "papermill": {
     "duration": 0.100315,
     "end_time": "2021-05-20T16:27:11.068474",
     "exception": false,
     "start_time": "2021-05-20T16:27:10.968159",
     "status": "completed"
    },
    "tags": []
   },
   "outputs": [],
   "source": [
    "# Load the BERT tokenizer\n",
    "tokenizer = BertTokenizer.from_pretrained('../input/bert-base-uncased/', do_lower_case=True)\n",
    "\n",
    "# Create a function to tokenize a set of texts\n",
    "def preprocessing_for_bert(data):\n",
    "    # Create empty lists to store outputs\n",
    "    input_ids = []\n",
    "    attention_masks = []\n",
    "\n",
    "    # For every sentence...\n",
    "    for sent in data:\n",
    "        # `encode_plus` will:\n",
    "        #    (1) Tokenize the sentence\n",
    "        #    (2) Add the `[CLS]` and `[SEP]` token to the start and end\n",
    "        #    (3) Truncate/Pad sentence to max length\n",
    "        #    (4) Map tokens to their IDs\n",
    "        #    (5) Create attention mask\n",
    "        #    (6) Return a dictionary of outputs\n",
    "        encoded_sent = tokenizer.encode_plus(\n",
    "            text=text_preprocessing(sent),  # Preprocess sentence\n",
    "            add_special_tokens=True,        # Add `[CLS]` and `[SEP]`\n",
    "            max_length=MAX_LEN,                  # Max length to truncate/pad\n",
    "            pad_to_max_length=True,         # Pad sentence to max length\n",
    "            #return_tensors='pt',           # Return PyTorch tensor\n",
    "            return_attention_mask=True      # Return attention mask\n",
    "            )\n",
    "        \n",
    "        # Add the outputs to the lists\n",
    "        input_ids.append(encoded_sent.get('input_ids'))\n",
    "        attention_masks.append(encoded_sent.get('attention_mask'))\n",
    "\n",
    "    # Convert lists to tensors\n",
    "    input_ids = torch.tensor(input_ids)\n",
    "    attention_masks = torch.tensor(attention_masks)\n",
    "\n",
    "    return input_ids, attention_masks"
   ]
  },
  {
   "cell_type": "code",
   "execution_count": 15,
   "id": "regulation-currency",
   "metadata": {
    "execution": {
     "iopub.execute_input": "2021-05-20T16:27:11.126017Z",
     "iopub.status.busy": "2021-05-20T16:27:11.125280Z",
     "iopub.status.idle": "2021-05-20T16:33:01.275286Z",
     "shell.execute_reply": "2021-05-20T16:33:01.275706Z",
     "shell.execute_reply.started": "2021-05-20T15:45:10.196233Z"
    },
    "papermill": {
     "duration": 350.182724,
     "end_time": "2021-05-20T16:33:01.275871",
     "exception": false,
     "start_time": "2021-05-20T16:27:11.093147",
     "status": "completed"
    },
    "tags": []
   },
   "outputs": [
    {
     "name": "stdout",
     "output_type": "stream",
     "text": [
      "Max length:  3157\n"
     ]
    }
   ],
   "source": [
    "# Concatenate train data and test data\n",
    "all_tweets = reviews.review.values\n",
    "\n",
    "# Encode our concatenated data\n",
    "encoded_tweets = [tokenizer.encode(sent, add_special_tokens=True) for sent in all_tweets]\n",
    "\n",
    "# Find the maximum length\n",
    "max_len = max([len(sent) for sent in encoded_tweets])\n",
    "print('Max length: ', max_len)"
   ]
  },
  {
   "cell_type": "code",
   "execution_count": 16,
   "id": "municipal-radical",
   "metadata": {
    "execution": {
     "iopub.execute_input": "2021-05-20T16:33:01.331151Z",
     "iopub.status.busy": "2021-05-20T16:33:01.330475Z",
     "iopub.status.idle": "2021-05-20T16:39:13.889641Z",
     "shell.execute_reply": "2021-05-20T16:39:13.889142Z",
     "shell.execute_reply.started": "2021-05-20T15:50:55.306306Z"
    },
    "papermill": {
     "duration": 372.589046,
     "end_time": "2021-05-20T16:39:13.889797",
     "exception": false,
     "start_time": "2021-05-20T16:33:01.300751",
     "status": "completed"
    },
    "tags": []
   },
   "outputs": [
    {
     "name": "stderr",
     "output_type": "stream",
     "text": [
      "Truncation was not explicitly activated but `max_length` is provided a specific value, please use `truncation=True` to explicitly truncate examples to max length. Defaulting to 'longest_first' truncation strategy. If you encode pairs of sequences (GLUE-style) with the tokenizer you can select this strategy more precisely by providing a specific strategy to `truncation`.\n"
     ]
    },
    {
     "name": "stdout",
     "output_type": "stream",
     "text": [
      "Original:  One of the other reviewers has mentioned that after watching just 1 Oz episode you'll be hooked. They are right, as this is exactly what happened with me.<br /><br />The first thing that struck me about Oz was its brutality and unflinching scenes of violence, which set in right from the word GO. Trust me, this is not a show for the faint hearted or timid. This show pulls no punches with regards to drugs, sex or violence. Its is hardcore, in the classic use of the word.<br /><br />It is called OZ as that is the nickname given to the Oswald Maximum Security State Penitentary. It focuses mainly on Emerald City, an experimental section of the prison where all the cells have glass fronts and face inwards, so privacy is not high on the agenda. Em City is home to many..Aryans, Muslims, gangstas, Latinos, Christians, Italians, Irish and more....so scuffles, death stares, dodgy dealings and shady agreements are never far away.<br /><br />I would say the main appeal of the show is due to the fact that it goes where other shows wouldn't dare. Forget pretty pictures painted for mainstream audiences, forget charm, forget romance...OZ doesn't mess around. The first episode I ever saw struck me as so nasty it was surreal, I couldn't say I was ready for it, but as I watched more, I developed a taste for Oz, and got accustomed to the high levels of graphic violence. Not just violence, but injustice (crooked guards who'll be sold out for a nickel, inmates who'll kill on order and get away with it, well mannered, middle class inmates being turned into prison bitches due to their lack of street skills or prison experience) Watching Oz, you may become comfortable with what is uncomfortable viewing....thats if you can get in touch with your darker side.\n",
      "Token IDs:  [101, 2028, 1997, 1996, 2060, 15814, 2038, 3855, 2008, 2044, 3666, 2074, 1015, 11472, 2792, 2017, 1005, 2222, 2022, 13322, 1012, 2027, 2024, 2157, 1010, 2004, 2023, 2003, 3599, 2054, 3047, 2007, 2033, 1012, 1026, 7987, 1013, 1028, 1026, 7987, 1013, 1028, 1996, 2034, 2518, 2008, 4930, 2033, 2055, 11472, 2001, 2049, 24083, 1998, 4895, 10258, 2378, 8450, 5019, 1997, 4808, 1010, 2029, 102]\n",
      "Tokenizing data...\n"
     ]
    }
   ],
   "source": [
    "# Specify `MAX_LEN`\n",
    "MAX_LEN = 64\n",
    "\n",
    "# Print sentence 0 and its encoded token ids\n",
    "token_ids = list(preprocessing_for_bert([X[0]])[0].squeeze().numpy())\n",
    "print('Original: ', X[0])\n",
    "print('Token IDs: ', token_ids)\n",
    "\n",
    "# Run function `preprocessing_for_bert` on the train set and the validation set\n",
    "print('Tokenizing data...')\n",
    "train_inputs, train_masks = preprocessing_for_bert(X_train)\n",
    "val_inputs, val_masks = preprocessing_for_bert(X_val)"
   ]
  },
  {
   "cell_type": "code",
   "execution_count": 17,
   "id": "optional-republican",
   "metadata": {
    "execution": {
     "iopub.execute_input": "2021-05-20T16:39:13.946643Z",
     "iopub.status.busy": "2021-05-20T16:39:13.946124Z",
     "iopub.status.idle": "2021-05-20T16:39:13.958636Z",
     "shell.execute_reply": "2021-05-20T16:39:13.958200Z",
     "shell.execute_reply.started": "2021-05-20T15:51:02.669636Z"
    },
    "papermill": {
     "duration": 0.042699,
     "end_time": "2021-05-20T16:39:13.958741",
     "exception": false,
     "start_time": "2021-05-20T16:39:13.916042",
     "status": "completed"
    },
    "tags": []
   },
   "outputs": [],
   "source": [
    "# Convert other data types to torch.Tensor\n",
    "train_labels = torch.tensor(y_train)\n",
    "val_labels = torch.tensor(y_val)\n",
    "\n",
    "# For fine-tuning BERT, the authors recommend a batch size of 16 or 32.\n",
    "batch_size = 32\n",
    "\n",
    "# Create the DataLoader for our training set\n",
    "train_data = TensorDataset(train_inputs, train_masks, train_labels)\n",
    "train_sampler = RandomSampler(train_data)\n",
    "train_dataloader = DataLoader(train_data, sampler=train_sampler, batch_size=batch_size)\n",
    "\n",
    "# Create the DataLoader for our validation set\n",
    "val_data = TensorDataset(val_inputs, val_masks, val_labels)\n",
    "val_sampler = SequentialSampler(val_data)\n",
    "val_dataloader = DataLoader(val_data, sampler=val_sampler, batch_size=batch_size)"
   ]
  },
  {
   "cell_type": "code",
   "execution_count": 18,
   "id": "australian-favor",
   "metadata": {
    "execution": {
     "iopub.execute_input": "2021-05-20T16:39:14.016337Z",
     "iopub.status.busy": "2021-05-20T16:39:14.015719Z",
     "iopub.status.idle": "2021-05-20T16:39:14.018727Z",
     "shell.execute_reply": "2021-05-20T16:39:14.019121Z",
     "shell.execute_reply.started": "2021-05-20T15:51:02.685197Z"
    },
    "papermill": {
     "duration": 0.035246,
     "end_time": "2021-05-20T16:39:14.019241",
     "exception": false,
     "start_time": "2021-05-20T16:39:13.983995",
     "status": "completed"
    },
    "tags": []
   },
   "outputs": [
    {
     "name": "stdout",
     "output_type": "stream",
     "text": [
      "CPU times: user 26 µs, sys: 3 µs, total: 29 µs\n",
      "Wall time: 31.5 µs\n"
     ]
    }
   ],
   "source": [
    "%%time\n",
    "\n",
    "# Create the BertClassfier class\n",
    "class BertClassifier(nn.Module):\n",
    "    \"\"\"Bert Model for Classification Tasks.\n",
    "    \"\"\"\n",
    "    def __init__(self, freeze_bert=False):\n",
    "        \"\"\"\n",
    "        @param    bert: a BertModel object\n",
    "        @param    classifier: a torch.nn.Module classifier\n",
    "        @param    freeze_bert (bool): Set `False` to fine-tune the BERT model\n",
    "        \"\"\"\n",
    "        super(BertClassifier, self).__init__()\n",
    "        # Specify hidden size of BERT, hidden size of our classifier, and number of labels\n",
    "        D_in, H, D_out = 768, 50, 2\n",
    "\n",
    "        # Instantiate BERT model\n",
    "        self.bert = BertModel.from_pretrained('../input/bert-base-uncased/')\n",
    "\n",
    "        # Instantiate an one-layer feed-forward classifier\n",
    "        self.classifier = nn.Sequential(\n",
    "            nn.Linear(D_in, H),\n",
    "            nn.ReLU(),\n",
    "            #nn.Dropout(0.5),\n",
    "            nn.Linear(H, D_out)\n",
    "        )\n",
    "\n",
    "        # Freeze the BERT model\n",
    "        if freeze_bert:\n",
    "            for param in self.bert.parameters():\n",
    "                param.requires_grad = False\n",
    "        \n",
    "    def forward(self, input_ids, attention_mask):\n",
    "        \"\"\"\n",
    "        Feed input to BERT and the classifier to compute logits.\n",
    "        @param    input_ids (torch.Tensor): an input tensor with shape (batch_size,\n",
    "                      max_length)\n",
    "        @param    attention_mask (torch.Tensor): a tensor that hold attention mask\n",
    "                      information with shape (batch_size, max_length)\n",
    "        @return   logits (torch.Tensor): an output tensor with shape (batch_size,\n",
    "                      num_labels)\n",
    "        \"\"\"\n",
    "        # Feed input to BERT\n",
    "        outputs = self.bert(input_ids=input_ids,\n",
    "                            attention_mask=attention_mask)\n",
    "        \n",
    "        # Extract the last hidden state of the token `[CLS]` for classification task\n",
    "        last_hidden_state_cls = outputs[0][:, 0, :]\n",
    "\n",
    "        # Feed input to classifier to compute logits\n",
    "        logits = self.classifier(last_hidden_state_cls)\n",
    "\n",
    "        return logits"
   ]
  },
  {
   "cell_type": "code",
   "execution_count": 19,
   "id": "anonymous-walnut",
   "metadata": {
    "execution": {
     "iopub.execute_input": "2021-05-20T16:39:14.075242Z",
     "iopub.status.busy": "2021-05-20T16:39:14.074590Z",
     "iopub.status.idle": "2021-05-20T16:39:14.077990Z",
     "shell.execute_reply": "2021-05-20T16:39:14.077580Z",
     "shell.execute_reply.started": "2021-05-20T15:51:02.695939Z"
    },
    "papermill": {
     "duration": 0.033166,
     "end_time": "2021-05-20T16:39:14.078093",
     "exception": false,
     "start_time": "2021-05-20T16:39:14.044927",
     "status": "completed"
    },
    "tags": []
   },
   "outputs": [],
   "source": [
    "def initialize_model(epochs=4):\n",
    "    \"\"\"Initialize the Bert Classifier, the optimizer and the learning rate scheduler.\n",
    "    \"\"\"\n",
    "    # Instantiate Bert Classifier\n",
    "    bert_classifier = BertClassifier(freeze_bert=False)\n",
    "\n",
    "    # Tell PyTorch to run the model on GPU\n",
    "    bert_classifier.to(device)\n",
    "\n",
    "    # Create the optimizer\n",
    "    optimizer = AdamW(bert_classifier.parameters(),\n",
    "                      lr=5e-5,    # Default learning rate\n",
    "                      eps=1e-8    # Default epsilon value\n",
    "                      )\n",
    "\n",
    "    # Total number of training steps\n",
    "    total_steps = len(train_dataloader) * epochs\n",
    "\n",
    "    # Set up the learning rate scheduler\n",
    "    scheduler = get_linear_schedule_with_warmup(optimizer,\n",
    "                                                num_warmup_steps=0, # Default value\n",
    "                                                num_training_steps=total_steps)\n",
    "    return bert_classifier, optimizer, scheduler"
   ]
  },
  {
   "cell_type": "code",
   "execution_count": 20,
   "id": "involved-details",
   "metadata": {
    "execution": {
     "iopub.execute_input": "2021-05-20T16:39:14.146172Z",
     "iopub.status.busy": "2021-05-20T16:39:14.145472Z",
     "iopub.status.idle": "2021-05-20T16:39:14.148295Z",
     "shell.execute_reply": "2021-05-20T16:39:14.147780Z",
     "shell.execute_reply.started": "2021-05-20T15:51:02.708667Z"
    },
    "papermill": {
     "duration": 0.044458,
     "end_time": "2021-05-20T16:39:14.148392",
     "exception": false,
     "start_time": "2021-05-20T16:39:14.103934",
     "status": "completed"
    },
    "tags": []
   },
   "outputs": [],
   "source": [
    "# Specify loss function\n",
    "loss_fn = nn.CrossEntropyLoss()\n",
    "\n",
    "def set_seed(seed_value=42):\n",
    "    \"\"\"Set seed for reproducibility.\n",
    "    \"\"\"\n",
    "    random.seed(seed_value)\n",
    "    np.random.seed(seed_value)\n",
    "    torch.manual_seed(seed_value)\n",
    "    torch.cuda.manual_seed_all(seed_value)\n",
    "\n",
    "def train(model, train_dataloader, val_dataloader=None, epochs=4, evaluation=False):\n",
    "    \"\"\"Train the BertClassifier model.\n",
    "    \"\"\"\n",
    "    # Start training loop\n",
    "    print(\"Start training...\\n\")\n",
    "    for epoch_i in range(epochs):\n",
    "        # =======================================\n",
    "        #               Training\n",
    "        # =======================================\n",
    "        # Print the header of the result table\n",
    "        print(f\"{'Epoch':^7} | {'Batch':^7} | {'Train Loss':^12} | {'Val Loss':^10} | {'Val Acc':^9} | {'Elapsed':^9}\")\n",
    "        print(\"-\"*70)\n",
    "\n",
    "        # Measure the elapsed time of each epoch\n",
    "        t0_epoch, t0_batch = time.time(), time.time()\n",
    "\n",
    "        # Reset tracking variables at the beginning of each epoch\n",
    "        total_loss, batch_loss, batch_counts = 0, 0, 0\n",
    "\n",
    "        # Put the model into the training mode\n",
    "        model.train()\n",
    "\n",
    "        # For each batch of training data...\n",
    "        for step, batch in enumerate(train_dataloader):\n",
    "            batch_counts +=1\n",
    "            # Load batch to GPU\n",
    "            b_input_ids, b_attn_mask, b_labels = tuple(t.to(device) for t in batch)\n",
    "\n",
    "            # Zero out any previously calculated gradients\n",
    "            model.zero_grad()\n",
    "\n",
    "            # Perform a forward pass. This will return logits.\n",
    "            logits = model(b_input_ids, b_attn_mask)\n",
    "\n",
    "            # Compute loss and accumulate the loss values\n",
    "            loss = loss_fn(logits, b_labels)\n",
    "            batch_loss += loss.item()\n",
    "            total_loss += loss.item()\n",
    "\n",
    "            # Perform a backward pass to calculate gradients\n",
    "            loss.backward()\n",
    "\n",
    "            # Clip the norm of the gradients to 1.0 to prevent \"exploding gradients\"\n",
    "            torch.nn.utils.clip_grad_norm_(model.parameters(), 1.0)\n",
    "\n",
    "            # Update parameters and the learning rate\n",
    "            optimizer.step()\n",
    "            scheduler.step()\n",
    "\n",
    "            # Print the loss values and time elapsed for every 20 batches\n",
    "            if (step % 20 == 0 and step != 0) or (step == len(train_dataloader) - 1):\n",
    "                # Calculate time elapsed for 20 batches\n",
    "                time_elapsed = time.time() - t0_batch\n",
    "\n",
    "                # Print training results\n",
    "                print(f\"{epoch_i + 1:^7} | {step:^7} | {batch_loss / batch_counts:^12.6f} | {'-':^10} | {'-':^9} | {time_elapsed:^9.2f}\")\n",
    "\n",
    "                # Reset batch tracking variables\n",
    "                batch_loss, batch_counts = 0, 0\n",
    "                t0_batch = time.time()\n",
    "\n",
    "        # Calculate the average loss over the entire training data\n",
    "        avg_train_loss = total_loss / len(train_dataloader)\n",
    "\n",
    "        print(\"-\"*70)\n",
    "        # =======================================\n",
    "        #               Evaluation\n",
    "        # =======================================\n",
    "        if evaluation == True:\n",
    "            # After the completion of each training epoch, measure the model's performance\n",
    "            # on our validation set.\n",
    "            val_loss, val_accuracy = evaluate(model, val_dataloader)\n",
    "\n",
    "            # Print performance over the entire training data\n",
    "            time_elapsed = time.time() - t0_epoch\n",
    "            \n",
    "            print(f\"{epoch_i + 1:^7} | {'-':^7} | {avg_train_loss:^12.6f} | {val_loss:^10.6f} | {val_accuracy:^9.2f} | {time_elapsed:^9.2f}\")\n",
    "            print(\"-\"*70)\n",
    "        print(\"\\n\")\n",
    "    \n",
    "    print(\"Training complete!\")\n",
    "\n",
    "\n",
    "def evaluate(model, val_dataloader):\n",
    "    \"\"\"After the completion of each training epoch, measure the model's performance\n",
    "    on our validation set.\n",
    "    \"\"\"\n",
    "    # Put the model into the evaluation mode. The dropout layers are disabled during\n",
    "    # the test time.\n",
    "    model.eval()\n",
    "\n",
    "    # Tracking variables\n",
    "    val_accuracy = []\n",
    "    val_loss = []\n",
    "\n",
    "    # For each batch in our validation set...\n",
    "    for batch in val_dataloader:\n",
    "        # Load batch to GPU\n",
    "        b_input_ids, b_attn_mask, b_labels = tuple(t.to(device) for t in batch)\n",
    "\n",
    "        # Compute logits\n",
    "        with torch.no_grad():\n",
    "            logits = model(b_input_ids, b_attn_mask)\n",
    "\n",
    "        # Compute loss\n",
    "        loss = loss_fn(logits, b_labels)\n",
    "        val_loss.append(loss.item())\n",
    "\n",
    "        # Get the predictions\n",
    "        preds = torch.argmax(logits, dim=1).flatten()\n",
    "\n",
    "        # Calculate the accuracy rate\n",
    "        accuracy = (preds == b_labels).cpu().numpy().mean() * 100\n",
    "        val_accuracy.append(accuracy)\n",
    "\n",
    "    # Compute the average accuracy and loss over the validation set.\n",
    "    val_loss = np.mean(val_loss)\n",
    "    val_accuracy = np.mean(val_accuracy)\n",
    "\n",
    "    return val_loss, val_accuracy"
   ]
  },
  {
   "cell_type": "code",
   "execution_count": 21,
   "id": "premier-clearing",
   "metadata": {
    "execution": {
     "iopub.execute_input": "2021-05-20T16:39:14.204865Z",
     "iopub.status.busy": "2021-05-20T16:39:14.201948Z",
     "iopub.status.idle": "2021-05-20T16:49:03.671834Z",
     "shell.execute_reply": "2021-05-20T16:49:03.672322Z",
     "shell.execute_reply.started": "2021-05-20T15:51:02.730434Z"
    },
    "papermill": {
     "duration": 589.498574,
     "end_time": "2021-05-20T16:49:03.672486",
     "exception": false,
     "start_time": "2021-05-20T16:39:14.173912",
     "status": "completed"
    },
    "tags": []
   },
   "outputs": [
    {
     "name": "stdout",
     "output_type": "stream",
     "text": [
      "Start training...\n",
      "\n",
      " Epoch  |  Batch  |  Train Loss  |  Val Loss  |  Val Acc  |  Elapsed \n",
      "----------------------------------------------------------------------\n",
      "   1    |   20    |   0.698167   |     -      |     -     |   5.42   \n",
      "   1    |   40    |   0.624655   |     -      |     -     |   4.49   \n",
      "   1    |   60    |   0.521470   |     -      |     -     |   4.45   \n",
      "   1    |   80    |   0.429689   |     -      |     -     |   4.45   \n",
      "   1    |   100   |   0.443892   |     -      |     -     |   4.66   \n",
      "   1    |   120   |   0.439922   |     -      |     -     |   4.44   \n",
      "   1    |   140   |   0.437932   |     -      |     -     |   4.50   \n",
      "   1    |   160   |   0.439046   |     -      |     -     |   4.45   \n",
      "   1    |   180   |   0.446723   |     -      |     -     |   4.44   \n",
      "   1    |   200   |   0.461105   |     -      |     -     |   4.50   \n",
      "   1    |   220   |   0.413700   |     -      |     -     |   4.44   \n",
      "   1    |   240   |   0.445533   |     -      |     -     |   4.69   \n",
      "   1    |   260   |   0.467272   |     -      |     -     |   4.44   \n",
      "   1    |   280   |   0.390416   |     -      |     -     |   4.46   \n",
      "   1    |   300   |   0.364920   |     -      |     -     |   4.51   \n",
      "   1    |   320   |   0.416374   |     -      |     -     |   4.45   \n",
      "   1    |   340   |   0.430627   |     -      |     -     |   4.50   \n",
      "   1    |   360   |   0.401104   |     -      |     -     |   4.44   \n",
      "   1    |   380   |   0.388171   |     -      |     -     |   4.65   \n",
      "   1    |   400   |   0.427241   |     -      |     -     |   4.50   \n",
      "   1    |   420   |   0.392946   |     -      |     -     |   4.47   \n",
      "   1    |   440   |   0.348715   |     -      |     -     |   4.53   \n",
      "   1    |   460   |   0.366833   |     -      |     -     |   4.45   \n",
      "   1    |   480   |   0.387196   |     -      |     -     |   4.51   \n",
      "   1    |   500   |   0.375852   |     -      |     -     |   4.48   \n",
      "   1    |   520   |   0.398352   |     -      |     -     |   4.57   \n",
      "   1    |   540   |   0.370252   |     -      |     -     |   4.52   \n",
      "   1    |   560   |   0.397849   |     -      |     -     |   4.44   \n",
      "   1    |   580   |   0.382057   |     -      |     -     |   4.52   \n",
      "   1    |   600   |   0.387867   |     -      |     -     |   4.44   \n",
      "   1    |   620   |   0.371978   |     -      |     -     |   4.49   \n",
      "   1    |   640   |   0.396106   |     -      |     -     |   4.50   \n",
      "   1    |   660   |   0.389961   |     -      |     -     |   4.59   \n",
      "   1    |   680   |   0.384472   |     -      |     -     |   4.51   \n",
      "   1    |   700   |   0.363003   |     -      |     -     |   4.51   \n",
      "   1    |   720   |   0.414211   |     -      |     -     |   4.51   \n",
      "   1    |   740   |   0.377366   |     -      |     -     |   4.52   \n",
      "   1    |   760   |   0.386677   |     -      |     -     |   4.48   \n",
      "   1    |   780   |   0.380473   |     -      |     -     |   4.54   \n",
      "   1    |   800   |   0.364399   |     -      |     -     |   4.67   \n",
      "   1    |   820   |   0.394455   |     -      |     -     |   4.55   \n",
      "   1    |   840   |   0.382952   |     -      |     -     |   4.48   \n",
      "   1    |   860   |   0.329464   |     -      |     -     |   4.44   \n",
      "   1    |   880   |   0.423692   |     -      |     -     |   4.57   \n",
      "   1    |   900   |   0.387125   |     -      |     -     |   4.51   \n",
      "   1    |   920   |   0.339921   |     -      |     -     |   4.53   \n",
      "   1    |   940   |   0.387332   |     -      |     -     |   4.62   \n",
      "   1    |   960   |   0.339830   |     -      |     -     |   4.47   \n",
      "   1    |   980   |   0.328270   |     -      |     -     |   4.52   \n",
      "   1    |  1000   |   0.353387   |     -      |     -     |   4.47   \n",
      "   1    |  1020   |   0.389488   |     -      |     -     |   4.58   \n",
      "   1    |  1040   |   0.329283   |     -      |     -     |   4.51   \n",
      "   1    |  1060   |   0.307172   |     -      |     -     |   4.47   \n",
      "   1    |  1080   |   0.354635   |     -      |     -     |   4.71   \n",
      "   1    |  1100   |   0.336831   |     -      |     -     |   4.51   \n",
      "   1    |  1120   |   0.377179   |     -      |     -     |   4.59   \n",
      "   1    |  1140   |   0.326177   |     -      |     -     |   4.46   \n",
      "   1    |  1160   |   0.379426   |     -      |     -     |   4.52   \n",
      "   1    |  1171   |   0.386251   |     -      |     -     |   2.43   \n",
      "----------------------------------------------------------------------\n",
      "   1    |    -    |   0.399974   |  0.341537  |   84.09   |  289.04  \n",
      "----------------------------------------------------------------------\n",
      "\n",
      "\n",
      " Epoch  |  Batch  |  Train Loss  |  Val Loss  |  Val Acc  |  Elapsed \n",
      "----------------------------------------------------------------------\n",
      "   2    |   20    |   0.248400   |     -      |     -     |   4.72   \n",
      "   2    |   40    |   0.224463   |     -      |     -     |   4.50   \n",
      "   2    |   60    |   0.192748   |     -      |     -     |   4.44   \n",
      "   2    |   80    |   0.198197   |     -      |     -     |   4.50   \n",
      "   2    |   100   |   0.228242   |     -      |     -     |   4.60   \n",
      "   2    |   120   |   0.211921   |     -      |     -     |   4.46   \n",
      "   2    |   140   |   0.239467   |     -      |     -     |   4.55   \n",
      "   2    |   160   |   0.219568   |     -      |     -     |   4.47   \n",
      "   2    |   180   |   0.231059   |     -      |     -     |   4.49   \n",
      "   2    |   200   |   0.237485   |     -      |     -     |   4.45   \n",
      "   2    |   220   |   0.309039   |     -      |     -     |   4.44   \n",
      "   2    |   240   |   0.221805   |     -      |     -     |   4.66   \n",
      "   2    |   260   |   0.215963   |     -      |     -     |   4.44   \n",
      "   2    |   280   |   0.190131   |     -      |     -     |   4.50   \n",
      "   2    |   300   |   0.199862   |     -      |     -     |   4.47   \n",
      "   2    |   320   |   0.208658   |     -      |     -     |   4.49   \n",
      "   2    |   340   |   0.263838   |     -      |     -     |   4.45   \n",
      "   2    |   360   |   0.225860   |     -      |     -     |   4.44   \n",
      "   2    |   380   |   0.210101   |     -      |     -     |   4.53   \n",
      "   2    |   400   |   0.230818   |     -      |     -     |   4.55   \n",
      "   2    |   420   |   0.230658   |     -      |     -     |   4.51   \n",
      "   2    |   440   |   0.208827   |     -      |     -     |   4.47   \n",
      "   2    |   460   |   0.195547   |     -      |     -     |   4.45   \n",
      "   2    |   480   |   0.211981   |     -      |     -     |   4.53   \n",
      "   2    |   500   |   0.196226   |     -      |     -     |   4.45   \n",
      "   2    |   520   |   0.217981   |     -      |     -     |   4.51   \n",
      "   2    |   540   |   0.244462   |     -      |     -     |   4.54   \n",
      "   2    |   560   |   0.239620   |     -      |     -     |   4.45   \n",
      "   2    |   580   |   0.193978   |     -      |     -     |   4.51   \n",
      "   2    |   600   |   0.211671   |     -      |     -     |   4.44   \n",
      "   2    |   620   |   0.191708   |     -      |     -     |   4.50   \n",
      "   2    |   640   |   0.223735   |     -      |     -     |   4.45   \n",
      "   2    |   660   |   0.185969   |     -      |     -     |   4.44   \n",
      "   2    |   680   |   0.210877   |     -      |     -     |   4.63   \n",
      "   2    |   700   |   0.206748   |     -      |     -     |   4.43   \n",
      "   2    |   720   |   0.241743   |     -      |     -     |   4.53   \n",
      "   2    |   740   |   0.227383   |     -      |     -     |   4.45   \n",
      "   2    |   760   |   0.204060   |     -      |     -     |   4.46   \n",
      "   2    |   780   |   0.191905   |     -      |     -     |   4.49   \n",
      "   2    |   800   |   0.201643   |     -      |     -     |   4.44   \n",
      "   2    |   820   |   0.173027   |     -      |     -     |   4.54   \n",
      "   2    |   840   |   0.205967   |     -      |     -     |   4.57   \n",
      "   2    |   860   |   0.250114   |     -      |     -     |   4.52   \n",
      "   2    |   880   |   0.222034   |     -      |     -     |   4.46   \n",
      "   2    |   900   |   0.183313   |     -      |     -     |   4.44   \n",
      "   2    |   920   |   0.204172   |     -      |     -     |   4.51   \n",
      "   2    |   940   |   0.207335   |     -      |     -     |   4.44   \n",
      "   2    |   960   |   0.209125   |     -      |     -     |   4.50   \n",
      "   2    |   980   |   0.209648   |     -      |     -     |   4.54   \n",
      "   2    |  1000   |   0.166492   |     -      |     -     |   4.47   \n",
      "   2    |  1020   |   0.223721   |     -      |     -     |   4.50   \n",
      "   2    |  1040   |   0.223018   |     -      |     -     |   4.45   \n",
      "   2    |  1060   |   0.214522   |     -      |     -     |   4.50   \n",
      "   2    |  1080   |   0.176583   |     -      |     -     |   4.44   \n",
      "   2    |  1100   |   0.248183   |     -      |     -     |   4.45   \n",
      "   2    |  1120   |   0.180167   |     -      |     -     |   4.62   \n",
      "   2    |  1140   |   0.210040   |     -      |     -     |   4.55   \n",
      "   2    |  1160   |   0.161132   |     -      |     -     |   4.50   \n",
      "   2    |  1171   |   0.177666   |     -      |     -     |   2.43   \n",
      "----------------------------------------------------------------------\n",
      "   2    |    -    |   0.213705   |  0.378130  |   85.25   |  287.23  \n",
      "----------------------------------------------------------------------\n",
      "\n",
      "\n",
      "Training complete!\n"
     ]
    }
   ],
   "source": [
    "set_seed(42)    # Set seed for reproducibility\n",
    "bert_classifier, optimizer, scheduler = initialize_model(epochs=2)\n",
    "train(bert_classifier, train_dataloader, val_dataloader, epochs=2, evaluation=True)"
   ]
  },
  {
   "cell_type": "code",
   "execution_count": 22,
   "id": "adjusted-thirty",
   "metadata": {
    "execution": {
     "iopub.execute_input": "2021-05-20T16:49:03.789261Z",
     "iopub.status.busy": "2021-05-20T16:49:03.788551Z",
     "iopub.status.idle": "2021-05-20T16:49:03.792076Z",
     "shell.execute_reply": "2021-05-20T16:49:03.791632Z",
     "shell.execute_reply.started": "2021-05-20T15:51:28.658242Z"
    },
    "papermill": {
     "duration": 0.063896,
     "end_time": "2021-05-20T16:49:03.792180",
     "exception": false,
     "start_time": "2021-05-20T16:49:03.728284",
     "status": "completed"
    },
    "tags": []
   },
   "outputs": [],
   "source": [
    "def bert_predict(model, test_dataloader):\n",
    "    \"\"\"Perform a forward pass on the trained BERT model to predict probabilities\n",
    "    on the test set.\n",
    "    \"\"\"\n",
    "    # Put the model into the evaluation mode. The dropout layers are disabled during\n",
    "    # the test time.\n",
    "    model.eval()\n",
    "\n",
    "    all_logits = []\n",
    "\n",
    "    # For each batch in our test set...\n",
    "    for batch in test_dataloader:\n",
    "        # Load batch to GPU\n",
    "        b_input_ids, b_attn_mask = tuple(t.to(device) for t in batch)[:2]\n",
    "\n",
    "        # Compute logits\n",
    "        with torch.no_grad():\n",
    "            logits = model(b_input_ids, b_attn_mask)\n",
    "        all_logits.append(logits)\n",
    "    \n",
    "    # Concatenate logits from each batch\n",
    "    all_logits = torch.cat(all_logits, dim=0)\n",
    "\n",
    "    # Apply softmax to calculate probabilities\n",
    "    probs = F.softmax(all_logits, dim=1).cpu().numpy()\n",
    "\n",
    "    return probs"
   ]
  },
  {
   "cell_type": "code",
   "execution_count": 23,
   "id": "graduate-milwaukee",
   "metadata": {
    "execution": {
     "iopub.execute_input": "2021-05-20T16:49:03.907601Z",
     "iopub.status.busy": "2021-05-20T16:49:03.906764Z",
     "iopub.status.idle": "2021-05-20T16:49:27.728447Z",
     "shell.execute_reply": "2021-05-20T16:49:27.728030Z",
     "shell.execute_reply.started": "2021-05-20T15:51:28.667950Z"
    },
    "papermill": {
     "duration": 23.881371,
     "end_time": "2021-05-20T16:49:27.728566",
     "exception": false,
     "start_time": "2021-05-20T16:49:03.847195",
     "status": "completed"
    },
    "tags": []
   },
   "outputs": [
    {
     "name": "stdout",
     "output_type": "stream",
     "text": [
      "AUC: 0.9329\n",
      "Accuracy: 85.24%\n"
     ]
    },
    {
     "data": {
      "image/png": "[encoded data removed]",
      "text/plain": [
       "<Figure size 432x288 with 1 Axes>"
      ]
     },
     "metadata": {
      "needs_background": "light"
     },
     "output_type": "display_data"
    }
   ],
   "source": [
    "# Compute predicted probabilities on the test set\n",
    "probs = bert_predict(bert_classifier, val_dataloader)\n",
    "\n",
    "# Evaluate the Bert classifier\n",
    "evaluate_roc(probs, y_val)"
   ]
  },
  {
   "cell_type": "markdown",
   "id": "cosmetic-story",
   "metadata": {
    "papermill": {
     "duration": 0.056369,
     "end_time": "2021-05-20T16:49:27.841739",
     "exception": false,
     "start_time": "2021-05-20T16:49:27.785370",
     "status": "completed"
    },
    "tags": []
   },
   "source": [
    "# Test"
   ]
  },
  {
   "cell_type": "code",
   "execution_count": 24,
   "id": "interracial-transcription",
   "metadata": {
    "execution": {
     "iopub.execute_input": "2021-05-20T16:49:27.960288Z",
     "iopub.status.busy": "2021-05-20T16:49:27.959575Z",
     "iopub.status.idle": "2021-05-20T16:49:27.962532Z",
     "shell.execute_reply": "2021-05-20T16:49:27.962917Z",
     "shell.execute_reply.started": "2021-05-20T15:54:38.522493Z"
    },
    "papermill": {
     "duration": 0.064898,
     "end_time": "2021-05-20T16:49:27.963047",
     "exception": false,
     "start_time": "2021-05-20T16:49:27.898149",
     "status": "completed"
    },
    "tags": []
   },
   "outputs": [],
   "source": [
    "# In this case we don't have test reviews so I selected randomly 25 reviews from the training reviews dataset\n",
    "test_data = reviews.sample(10)"
   ]
  },
  {
   "cell_type": "code",
   "execution_count": 25,
   "id": "solved-nevada",
   "metadata": {
    "execution": {
     "iopub.execute_input": "2021-05-20T16:49:28.111898Z",
     "iopub.status.busy": "2021-05-20T16:49:28.096378Z",
     "iopub.status.idle": "2021-05-20T16:49:28.182165Z",
     "shell.execute_reply": "2021-05-20T16:49:28.181740Z",
     "shell.execute_reply.started": "2021-05-20T15:54:47.066907Z"
    },
    "papermill": {
     "duration": 0.163064,
     "end_time": "2021-05-20T16:49:28.182270",
     "exception": false,
     "start_time": "2021-05-20T16:49:28.019206",
     "status": "completed"
    },
    "tags": []
   },
   "outputs": [
    {
     "name": "stdout",
     "output_type": "stream",
     "text": [
      "Tokenizing data...\n"
     ]
    }
   ],
   "source": [
    "# Run `preprocessing_for_bert` on the test set\n",
    "print('Tokenizing data...')\n",
    "test_inputs, test_masks = preprocessing_for_bert(test_data.review)\n",
    "\n",
    "# Create the DataLoader for our test set\n",
    "test_dataset = TensorDataset(test_inputs, test_masks)\n",
    "test_sampler = SequentialSampler(test_dataset)\n",
    "test_dataloader = DataLoader(test_dataset, sampler=test_sampler, batch_size=32)"
   ]
  },
  {
   "cell_type": "code",
   "execution_count": 26,
   "id": "considerable-elephant",
   "metadata": {
    "execution": {
     "iopub.execute_input": "2021-05-20T16:49:28.299844Z",
     "iopub.status.busy": "2021-05-20T16:49:28.299071Z",
     "iopub.status.idle": "2021-05-20T16:49:28.328098Z",
     "shell.execute_reply": "2021-05-20T16:49:28.327657Z",
     "shell.execute_reply.started": "2021-05-20T15:55:17.926710Z"
    },
    "papermill": {
     "duration": 0.089966,
     "end_time": "2021-05-20T16:49:28.328198",
     "exception": false,
     "start_time": "2021-05-20T16:49:28.238232",
     "status": "completed"
    },
    "tags": []
   },
   "outputs": [
    {
     "name": "stdout",
     "output_type": "stream",
     "text": [
      "[0 0 1 0 1 0 0 0 1 1]\n",
      "Number of tweets predicted non-negative:  4\n"
     ]
    }
   ],
   "source": [
    "# Compute predicted probabilities on the test set\n",
    "probs = bert_predict(bert_classifier, test_dataloader)\n",
    "\n",
    "# Get predictions from the probabilities\n",
    "threshold = 0.5\n",
    "preds = np.where(probs[:, 1] > threshold, 1, 0)\n",
    "\n",
    "print(preds)\n",
    "# Number of tweets predicted non-negative\n",
    "print(\"Number of tweets predicted non-negative: \", preds.sum())"
   ]
  },
  {
   "cell_type": "code",
   "execution_count": null,
   "id": "polyphonic-heating",
   "metadata": {
    "papermill": {
     "duration": 0.056346,
     "end_time": "2021-05-20T16:49:28.440895",
     "exception": false,
     "start_time": "2021-05-20T16:49:28.384549",
     "status": "completed"
    },
    "tags": []
   },
   "outputs": [],
   "source": []
  }
 ],
 "metadata": {
  "kernelspec": {
   "display_name": "Python 3",
   "language": "python",
   "name": "python3"
  },
  "language_info": {
   "codemirror_mode": {
    "name": "ipython",
    "version": 3
   },
   "file_extension": ".py",
   "mimetype": "text/x-python",
   "name": "python",
   "nbconvert_exporter": "python",
   "pygments_lexer": "ipython3",
   "version": "3.7.10"
  },
  "papermill": {
   "default_parameters": {},
   "duration": 3178.551688,
   "end_time": "2021-05-20T16:49:31.491208",
   "environment_variables": {},
   "exception": null,
   "input_path": "__notebook__.ipynb",
   "output_path": "__notebook__.ipynb",
   "parameters": {},
   "start_time": "2021-05-20T15:56:32.939520",
   "version": "2.3.3"
  }
 },
 "nbformat": 4,
 "nbformat_minor": 5
}
